{
 "cells": [
  {
   "cell_type": "markdown",
   "id": "b41a7914",
   "metadata": {},
   "source": [
    "Main Screen of Game - Welcome to the unfriendly interface !"
   ]
  },
  {
   "cell_type": "code",
   "execution_count": null,
   "id": "3a4db4bf",
   "metadata": {},
   "outputs": [
    {
     "name": "stdout",
     "output_type": "stream",
     "text": [
      "Choose your Weapon:\n",
      "\n",
      "1. Rock\n",
      "2. Paper\n",
      "3. Scissors\n",
      "\n",
      "Enter the corrresponding number1\n",
      "\n",
      "Computer chose Paper and You chose Rock. \n",
      "You loose !\n"
     ]
    }
   ],
   "source": [
    "import random\n",
    "gameOptions= [\"Rock\", \"Paper\", \"Scissors\"] \n",
    "print(\"Choose your Weapon:\\n\")\n",
    "print(\"1. Rock\\n2. Paper\\n3. Scissors\")\n",
    "while 1:# Incase you are an addict..\n",
    "        option=int(input(\"\\nEnter the corrresponding number\"))   \n",
    "        if option>3 or option<1:\n",
    "           print(\"\\nWrong input. Please choose the correct number\")\n",
    "        else:\n",
    "           pc=random.randint(1, 3) # Yeh isiliye kyunki computer needs to be spoonfed , it has no brain to decide     \n",
    "           if option==1 and pc==3:\n",
    "                    print(\"\\nComputer chose Scissor but You chose Rock. \\nYou Win !\")\n",
    "           elif option==3 and pc==1:\n",
    "                    print(\"\\nComputer chose Rock but You chose Scissor. \\nYou loose !\")\n",
    "           elif option>pc:\n",
    "                    print(\"\\nComputer chose {comp} and You chose {user}. \\nYou Win !\".format(comp=gameOptions[pc-1], user=gameOptions[option-1])) #Kyunki list ka index 1 se chalu hota h \n",
    "           elif pc>option:\n",
    "                    print(\"\\nComputer chose {comp} and You chose {user}. \\nYou loose !\".format(comp=gameOptions[pc-1],user=gameOptions[option-1]))\n",
    "           elif pc==option:\n",
    "                    print(\"\\nIt's a draw because Computer also chose {comp}\".format(comp=gameOptions[pc-1]))\n",
    "        playAgain=input(\"\\nDo you want to play again? Y/N\") #Till value is not 'n' it will not reach BREAK and just exit and restart while loop, \n",
    "        if playAgain.lower()!='y':\n",
    "            break"
   ]
  },
  {
   "cell_type": "code",
   "execution_count": null,
   "id": "056a9729",
   "metadata": {},
   "outputs": [],
   "source": []
  }
 ],
 "metadata": {
  "kernelspec": {
   "display_name": "Python 3 (ipykernel)",
   "language": "python",
   "name": "python3"
  },
  "language_info": {
   "codemirror_mode": {
    "name": "ipython",
    "version": 3
   },
   "file_extension": ".py",
   "mimetype": "text/x-python",
   "name": "python",
   "nbconvert_exporter": "python",
   "pygments_lexer": "ipython3",
   "version": "3.9.7"
  }
 },
 "nbformat": 4,
 "nbformat_minor": 5
}
