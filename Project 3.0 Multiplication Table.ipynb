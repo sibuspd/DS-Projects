{
 "cells": [
  {
   "cell_type": "markdown",
   "id": "77d2b825",
   "metadata": {},
   "source": [
    "# Welcome to User-Unfriendly Interface Season II"
   ]
  },
  {
   "cell_type": "code",
   "execution_count": null,
   "id": "b9bc56cb",
   "metadata": {},
   "outputs": [],
   "source": []
  },
  {
   "cell_type": "code",
   "execution_count": 7,
   "id": "17276eec",
   "metadata": {},
   "outputs": [
    {
     "name": "stdout",
     "output_type": "stream",
     "text": [
      "WELCOME TO USER-UNFRIENDLY INTERFACE SEASON II\n",
      " \n",
      "$$$$$$$$$$$$$$$$$$$$$$$$$$$$$$$$$$$$$$$$$$$$$$$$\n",
      "Enter the number whose table is to be displayed: 23\n",
      "Enter the number upto which the multiplication is to be extended: 12\n",
      "23  X  1  =  23\n",
      "23  X  2  =  46\n",
      "23  X  3  =  69\n",
      "23  X  4  =  92\n",
      "23  X  5  =  115\n",
      "23  X  6  =  138\n",
      "23  X  7  =  161\n",
      "23  X  8  =  184\n",
      "23  X  9  =  207\n",
      "23  X  10  =  230\n",
      "23  X  11  =  253\n",
      "23  X  12  =  276\n"
     ]
    }
   ],
   "source": [
    "# Statutory Warning: \n",
    "# My algorithm is limited to logics that are within the scope of covered modules and will not exhibit anything out of thin air\"\n",
    "#However I am using the try-except statement; I will give it a try !\n",
    "\n",
    "def multiply(mainNumber, ext):\n",
    "    for i in range(1, ext+1):\n",
    "        print(mainNumber,\" X \",i,\" = \",mainNumber*i)\n",
    "print(\"WELCOME TO USER-UNFRIENDLY INTERFACE SEASON II\\n \")\n",
    "print(\"$\"*48)\n",
    "try:\n",
    "    num = int(input(\"Enter the number whose table is to be displayed: \")) #Jis number ka table chahiye \n",
    "    ext =int(input(\"Enter the number upto which the multiplication is to be extended: \")) # Jahan tak ka chahiye, kuch to dalna padega\n",
    "    if ext>=1:# yeh sunischit karne ke liye ki input number hi hai aur koi kachra nahi\n",
    "        multiply(num,ext)\n",
    "except ValueError:\n",
    "    print(\"Please enter valid arguments.. Integer maane samajhte ho bhiya ????\")"
   ]
  },
  {
   "cell_type": "code",
   "execution_count": null,
   "id": "26694e45",
   "metadata": {},
   "outputs": [],
   "source": []
  }
 ],
 "metadata": {
  "kernelspec": {
   "display_name": "Python 3 (ipykernel)",
   "language": "python",
   "name": "python3"
  },
  "language_info": {
   "codemirror_mode": {
    "name": "ipython",
    "version": 3
   },
   "file_extension": ".py",
   "mimetype": "text/x-python",
   "name": "python",
   "nbconvert_exporter": "python",
   "pygments_lexer": "ipython3",
   "version": "3.9.7"
  }
 },
 "nbformat": 4,
 "nbformat_minor": 5
}
